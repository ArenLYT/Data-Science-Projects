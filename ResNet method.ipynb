{
 "cells": [
  {
   "cell_type": "code",
   "execution_count": 35,
   "id": "9de7ea3f",
   "metadata": {},
   "outputs": [],
   "source": [
    "import fastai\n",
    "from fastai.vision.all import *\n",
    "from fastai import vision"
   ]
  },
  {
   "cell_type": "code",
   "execution_count": 4,
   "id": "948c714a",
   "metadata": {},
   "outputs": [],
   "source": [
    "#image path for from_folder function\n",
    "path2=\"Chestx//\"\n",
    "image=get_image_files(path2)"
   ]
  },
  {
   "cell_type": "code",
   "execution_count": 5,
   "id": "3d3e504e",
   "metadata": {},
   "outputs": [
    {
     "name": "stdout",
     "output_type": "stream",
     "text": [
      "Due to IPython and Windows limitation, python multiprocessing isn't available now.\n",
      "So `number_workers` is changed to 0 to avoid getting stuck\n"
     ]
    }
   ],
   "source": [
    "#the training set is from train folder, and 1% of the images in the train folder is used as validation as original valid set is too small\n",
    "#resize to keep images size consistent, batch size to fit gpu memory space\n",
    "dls=ImageDataLoaders.from_folder(path2,train='train',valid_pct=0.1,item_tfms=Resize(384,'squish'), seed=42,bs=16) "
   ]
  },
  {
   "cell_type": "code",
   "execution_count": 20,
   "id": "39eb96ed",
   "metadata": {},
   "outputs": [],
   "source": [
    "#resnet18 model\n",
    "ptlearn18=vision_learner(dls, models.resnet18,pretrained=True, metrics=accuracy)"
   ]
  },
  {
   "cell_type": "code",
   "execution_count": 21,
   "id": "e7595003",
   "metadata": {},
   "outputs": [
    {
     "data": {
      "text/html": [
       "\n",
       "<style>\n",
       "    /* Turns off some styling */\n",
       "    progress {\n",
       "        /* gets rid of default border in Firefox and Opera. */\n",
       "        border: none;\n",
       "        /* Needs to be in here for Safari polyfill so background images work as expected. */\n",
       "        background-size: auto;\n",
       "    }\n",
       "    progress:not([value]), progress:not([value])::-webkit-progress-bar {\n",
       "        background: repeating-linear-gradient(45deg, #7e7e7e, #7e7e7e 10px, #5c5c5c 10px, #5c5c5c 20px);\n",
       "    }\n",
       "    .progress-bar-interrupted, .progress-bar-interrupted::-webkit-progress-bar {\n",
       "        background: #F44336;\n",
       "    }\n",
       "</style>\n"
      ],
      "text/plain": [
       "<IPython.core.display.HTML object>"
      ]
     },
     "metadata": {},
     "output_type": "display_data"
    },
    {
     "data": {
      "text/html": [],
      "text/plain": [
       "<IPython.core.display.HTML object>"
      ]
     },
     "metadata": {},
     "output_type": "display_data"
    },
    {
     "data": {
      "text/plain": [
       "SuggestedLRs(valley=0.00363078061491251)"
      ]
     },
     "execution_count": 21,
     "metadata": {},
     "output_type": "execute_result"
    },
    {
     "data": {
      "image/png": "[encoded data removed]",
      "text/plain": [
       "<Figure size 432x288 with 1 Axes>"
      ]
     },
     "metadata": {
      "needs_background": "light"
     },
     "output_type": "display_data"
    }
   ],
   "source": [
    "#finding learning rate\n",
    "ptlearn18.lr_find()"
   ]
  },
  {
   "cell_type": "code",
   "execution_count": 22,
   "id": "129bbbab",
   "metadata": {
    "scrolled": true
   },
   "outputs": [
    {
     "data": {
      "text/html": [
       "\n",
       "<style>\n",
       "    /* Turns off some styling */\n",
       "    progress {\n",
       "        /* gets rid of default border in Firefox and Opera. */\n",
       "        border: none;\n",
       "        /* Needs to be in here for Safari polyfill so background images work as expected. */\n",
       "        background-size: auto;\n",
       "    }\n",
       "    progress:not([value]), progress:not([value])::-webkit-progress-bar {\n",
       "        background: repeating-linear-gradient(45deg, #7e7e7e, #7e7e7e 10px, #5c5c5c 10px, #5c5c5c 20px);\n",
       "    }\n",
       "    .progress-bar-interrupted, .progress-bar-interrupted::-webkit-progress-bar {\n",
       "        background: #F44336;\n",
       "    }\n",
       "</style>\n"
      ],
      "text/plain": [
       "<IPython.core.display.HTML object>"
      ]
     },
     "metadata": {},
     "output_type": "display_data"
    },
    {
     "data": {
      "text/html": [
       "<table border=\"1\" class=\"dataframe\">\n",
       "  <thead>\n",
       "    <tr style=\"text-align: left;\">\n",
       "      <th>epoch</th>\n",
       "      <th>train_loss</th>\n",
       "      <th>valid_loss</th>\n",
       "      <th>accuracy</th>\n",
       "      <th>time</th>\n",
       "    </tr>\n",
       "  </thead>\n",
       "  <tbody>\n",
       "    <tr>\n",
       "      <td>0</td>\n",
       "      <td>0.220579</td>\n",
       "      <td>0.364738</td>\n",
       "      <td>0.904274</td>\n",
       "      <td>04:28</td>\n",
       "    </tr>\n",
       "    <tr>\n",
       "      <td>1</td>\n",
       "      <td>0.168077</td>\n",
       "      <td>0.198892</td>\n",
       "      <td>0.931624</td>\n",
       "      <td>04:42</td>\n",
       "    </tr>\n",
       "    <tr>\n",
       "      <td>2</td>\n",
       "      <td>0.176774</td>\n",
       "      <td>0.118105</td>\n",
       "      <td>0.960684</td>\n",
       "      <td>04:47</td>\n",
       "    </tr>\n",
       "    <tr>\n",
       "      <td>3</td>\n",
       "      <td>0.142481</td>\n",
       "      <td>0.097839</td>\n",
       "      <td>0.962393</td>\n",
       "      <td>04:38</td>\n",
       "    </tr>\n",
       "    <tr>\n",
       "      <td>4</td>\n",
       "      <td>0.143471</td>\n",
       "      <td>0.101800</td>\n",
       "      <td>0.962393</td>\n",
       "      <td>04:36</td>\n",
       "    </tr>\n",
       "    <tr>\n",
       "      <td>5</td>\n",
       "      <td>0.137932</td>\n",
       "      <td>0.103788</td>\n",
       "      <td>0.962393</td>\n",
       "      <td>04:41</td>\n",
       "    </tr>\n",
       "  </tbody>\n",
       "</table>"
      ],
      "text/plain": [
       "<IPython.core.display.HTML object>"
      ]
     },
     "metadata": {},
     "output_type": "display_data"
    },
    {
     "name": "stdout",
     "output_type": "stream",
     "text": [
      "No improvement since epoch 3: early stopping\n"
     ]
    }
   ],
   "source": [
    "#start the training of 50 epochs with callback to stop the training when valid_loss stop improving\n",
    "ptlearn18.fit(50, 3e-3, cbs=EarlyStoppingCallback(monitor='valid_loss', min_delta=0.01, patience=2))"
   ]
  },
  {
   "cell_type": "code",
   "execution_count": 33,
   "id": "c07d6f0c",
   "metadata": {},
   "outputs": [],
   "source": [
    "#export resnet18 model\n",
    "ptlearn18.export(\"resnet18\")"
   ]
  }
 ],
 "metadata": {
  "kernelspec": {
   "display_name": "cupy",
   "language": "python",
   "name": "cupy"
  },
  "language_info": {
   "codemirror_mode": {
    "name": "ipython",
    "version": 3
   },
   "file_extension": ".py",
   "mimetype": "text/x-python",
   "name": "python",
   "nbconvert_exporter": "python",
   "pygments_lexer": "ipython3",
   "version": "3.9.7"
  }
 },
 "nbformat": 4,
 "nbformat_minor": 5
}
